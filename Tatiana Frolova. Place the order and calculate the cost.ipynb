{
 "cells": [
  {
   "cell_type": "markdown",
   "id": "9a76fd1d",
   "metadata": {},
   "source": [
    "### Tatiana Frolova\n",
    "### Project Name: Place order and calculator your cost.\n",
    "### Description:\n",
    "This program can be used as simple application to order in pizza shop. The application helps user order pizza, calculate price, calculate tips and split total cost between all people in order to pay."
   ]
  },
  {
   "cell_type": "markdown",
   "id": "c7b979c9",
   "metadata": {},
   "source": [
    "#### List of inputs/outputs\n",
    "Prompt user about pizza size --> size = input(\"Please enter size of pizza you would like to order? 'S' for small, 'M' for medium, or 'L' for Large : \")\n",
    "\n",
    "Prompt user if he/she would like to add peperoni on their pizza --> pepperoni = input(\"Would you like add extra pepperoni? Please enter 'Y' for Yes or 'N' for Not : \")\n",
    "\n",
    "Prompt user if he/she would like to add extra cheese on their pizza --> cheese = input(\"Would you like add extra extra cheese? Please enter 'Y' for Yes or 'N' for Not : \")\n",
    "\n",
    "Prompt user how many pizza wanted to be order want = int(input(\"how many pizza do you want? : \"))\n",
    "\n",
    "Prompt user if he/she would like to add tips --> tips = int(input(\"How much % of tips would you pay: \"))\n",
    "\n",
    "Prompt user if he/she would like to split their bill --> people = int(input(\"How many people would pay: \"))\n"
   ]
  },
  {
   "cell_type": "markdown",
   "id": "12bfceb6",
   "metadata": {},
   "source": [
    "#### Instructions on how to use the program:\n",
    "1. Program displays the menu of pizza options. User can see and make choice.\n",
    "2. Progam display step by step pizza builder options. User can buid his/her own pizza\n",
    "3. Program calculates and displays price. User can see it.\n",
    "4. Program asks % of tips and how many people will pay. User enter % about of total cost.\n",
    "5. Program calculats how much per user needs to pay. User pays. \n",
    "\n",
    "\n"
   ]
  },
  {
   "cell_type": "markdown",
   "id": "64904744",
   "metadata": {},
   "source": [
    "#### Define functions:"
   ]
  },
  {
   "cell_type": "code",
   "execution_count": 1,
   "id": "20c51ce2",
   "metadata": {},
   "outputs": [],
   "source": [
    "# function display welcome pizza menu\n",
    "def welcome(): \n",
    "    print(\" \\t\\t\\t *** Welcome to Python Tips Calculator for your pizza order*** \\t\\t\\t\")\n",
    "    print(\"Menu price:\")\n",
    "    print(\"Small pizza: $15\")\n",
    "    print(\"Medium pizza: $20\")\n",
    "    print(\"Large pizza: $25\")\n",
    "    print(\"Add peperoni for small pizza for extra pay of $2, for Medium and Large pizza for extra pay of $3\")\n",
    "    print(\"Add extra cheese $1\")\n",
    "\n",
    "# function to display picture\n",
    "def picPizza(): \n",
    "    print('''                                     \n",
    "                                   ,(  `-.\n",
    "                                 ,': `.   `.\n",
    "                               ,` *   `-.   \\\n",
    "                             \n",
    "                           ,~  (o):  .,   `.  `.\n",
    "                         ,'  ; :   ,(__) x;`.  ;\n",
    "                       ,'  :'  itz  ;  ; ; _,-'\n",
    "                     .'O ; = _' C ; ;'_,_ ;\n",
    "                   ,;  _;   ` : ;'_,-'   i'\n",
    "                 ,` `;(_)  0 ; ','       :\n",
    "               .';6     ; ' ,-'~\n",
    "             ,' Q  ,& ;',-.'\n",
    "           ,( :` ; _,-'~  ;\n",
    "         ,~.`c _','\n",
    "       .';^_,-' ~\n",
    "     ,'_;-''\n",
    "    ,,~\n",
    "    i'\n",
    "    : ''')\n",
    "\n",
    "# function tip calculator    \n",
    "def calc(bill1, tips, people):\n",
    "    billWithTips = ((tips/100)*bill1)+bill1\n",
    "    pay = billWithTips/people\n",
    "    \n",
    "    return(pay)  \n",
    " "
   ]
  },
  {
   "cell_type": "markdown",
   "id": "bac81afd",
   "metadata": {},
   "source": [
    "#### Program code to make pizza order and calculate total bill:"
   ]
  },
  {
   "cell_type": "code",
   "execution_count": 2,
   "id": "b2700f68",
   "metadata": {},
   "outputs": [
    {
     "name": "stdout",
     "output_type": "stream",
     "text": [
      " \t\t\t *** Welcome to Python Tips Calculator for your pizza order*** \t\t\t\n",
      "Menu price:\n",
      "Small pizza: $15\n",
      "Medium pizza: $20\n",
      "Large pizza: $25\n",
      "Add peperoni for small pizza for extra pay of $2, for Medium and Large pizza for extra pay of $3\n",
      "Add extra cheese $1\n",
      "                                     \n",
      "                                   ,(  `-.\n",
      "                                 ,': `.   `.\n",
      "                               ,` *   `-.                                \n",
      "                           ,~  (o):  .,   `.  `.\n",
      "                         ,'  ; :   ,(__) x;`.  ;\n",
      "                       ,'  :'  itz  ;  ; ; _,-'\n",
      "                     .'O ; = _' C ; ;'_,_ ;\n",
      "                   ,;  _;   ` : ;'_,-'   i'\n",
      "                 ,` `;(_)  0 ; ','       :\n",
      "               .';6     ; ' ,-'~\n",
      "             ,' Q  ,& ;',-.'\n",
      "           ,( :` ; _,-'~  ;\n",
      "         ,~.`c _','\n",
      "       .';^_,-' ~\n",
      "     ,'_;-''\n",
      "    ,,~\n",
      "    i'\n",
      "    : \n",
      "Please enter size of pizza you would like to order? 'S' for small, 'M' for medium, or 'L' for Large : S\n",
      "Would you like add extra pepperoni? Please enter 'Y' for Yes or 'N' for Not : Y\n",
      "Would you like add extra extra cheese? Please enter 'Y' for Yes or 'N' for Not : Y\n",
      "\n",
      "Your bill is $ 18 per pizza \n",
      "\n",
      "How many pizza do you want? : 2\n",
      "\n",
      "Your final bill is $ 36 for all pizza\n",
      "How much % of tips would you pay: 10\n",
      "How many people would pay: 2\n",
      "You will pay $19.8\n"
     ]
    }
   ],
   "source": [
    "# calling welcome function\n",
    "welcome()\n",
    "\n",
    "# calling function to display picture\n",
    "picPizza()\n",
    "\n",
    "# prompt user input about pizza order details\n",
    "size = input(\"Please enter size of pizza you would like to order? 'S' for small, 'M' for medium, or 'L' for Large : \")\n",
    "pepperoni = input(\"Would you like add extra pepperoni? Please enter 'Y' for Yes or 'N' for Not : \")\n",
    "cheese = input(\"Would you like add extra extra cheese? Please enter 'Y' for Yes or 'N' for Not : \")\n",
    "\n",
    "# set up bill counter for pizza order\n",
    "bill = 0\n",
    "\n",
    "if size == \"S\":\n",
    "    bill += 15\n",
    "elif size == \"M\":\n",
    "    bill += 20\n",
    "else:\n",
    "    bill += 25\n",
    "    \n",
    "if pepperoni == \"Y\":\n",
    "    if size == \"S\":\n",
    "        bill += 2\n",
    "    else:\n",
    "        bill += 3\n",
    "\n",
    "if cheese == \"Y\":\n",
    "    bill += 1\n",
    "\n",
    "# display bill per pizza\n",
    "print(f\"\\nYour bill is $ {bill} per pizza \\n\")\n",
    "\n",
    "# prompt user how many pizza he/she wants and add to the bill\n",
    "want = int(input(\"How many pizza do you want? : \"))\n",
    "bill = bill * want\n",
    "\n",
    "# resave variable\n",
    "bill1 = bill \n",
    "\n",
    "# display total bill for pizza order \n",
    "print(f\"\\nYour final bill is $ {bill1} for all pizza\")\n",
    "\n",
    "# prompt user for tips and split bill information\n",
    "tips = int(input(\"How much % of tips would you pay: \"))\n",
    "people = int(input(\"How many people would pay: \"))\n",
    "\n",
    "# calling function tips calculator\n",
    "pay = calc(bill1, tips, people)\n",
    "\n",
    "# display how much per person user needs to pay\n",
    "print(f\"You will pay ${round(pay, 2)}\")"
   ]
  },
  {
   "cell_type": "markdown",
   "id": "42b26cd4",
   "metadata": {},
   "source": [
    "### End"
   ]
  }
 ],
 "metadata": {
  "kernelspec": {
   "display_name": "Python 3 (ipykernel)",
   "language": "python",
   "name": "python3"
  },
  "language_info": {
   "codemirror_mode": {
    "name": "ipython",
    "version": 3
   },
   "file_extension": ".py",
   "mimetype": "text/x-python",
   "name": "python",
   "nbconvert_exporter": "python",
   "pygments_lexer": "ipython3",
   "version": "3.11.4"
  }
 },
 "nbformat": 4,
 "nbformat_minor": 5
}
